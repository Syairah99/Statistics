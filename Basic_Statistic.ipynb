{
  "nbformat": 4,
  "nbformat_minor": 0,
  "metadata": {
    "colab": {
      "provenance": []
    },
    "kernelspec": {
      "name": "python3",
      "display_name": "Python 3"
    },
    "language_info": {
      "name": "python"
    }
  },
  "cells": [
    {
      "cell_type": "markdown",
      "source": [
        "**Mean**\n",
        "\n",
        "- Also known as average which referring to central value"
      ],
      "metadata": {
        "id": "sZWclkzOCH7N"
      }
    },
    {
      "cell_type": "code",
      "source": [
        "import numpy as np\n",
        "import math\n",
        "x = np.array([1,3,5,6])\n",
        "mean_x = np.mean(x)\n",
        "#In case the data contain Nan values\n",
        "x_nan = np.array([1,3,5,6,np.nan])\n",
        "mean_x_nan = np.nanmean(x_nan)"
      ],
      "metadata": {
        "id": "gRIfsZAkCJ21"
      },
      "execution_count": null,
      "outputs": []
    },
    {
      "cell_type": "markdown",
      "source": [
        "**Variance**\n",
        "- Measure of how far the data points are spread out from the average value"
      ],
      "metadata": {
        "id": "Neeo5nPjCcWc"
      }
    },
    {
      "cell_type": "code",
      "source": [
        "import numpy as np\n",
        "import math\n",
        "x = np.array([1,3,5,6])\n",
        "variance_x = np.var(x)\n",
        "##Specify the degrees of freedom (df) max number of logically independent data points that have freedom to vary \n",
        "x_nan = np.array([1,3,5,6,math.nan])\n",
        "variance_x_nan = np.nanvar(x_nan,ddof = 1)"
      ],
      "metadata": {
        "id": "Hk7cHpCDCeXj"
      },
      "execution_count": null,
      "outputs": []
    },
    {
      "cell_type": "markdown",
      "source": [
        "**Covariance**\n",
        "- Measure of joint variability of two random variables\n",
        "- Describes the relationship between these two variables\n",
        "- Negative value: Means vary in opposite direction\n",
        "- Positive value: Means vary in the same direction\n",
        "- 0: Means do not vary together"
      ],
      "metadata": {
        "id": "FOCVvGxNClS8"
      }
    },
    {
      "cell_type": "code",
      "source": [
        "x = np.array([1,3,5,6])\n",
        "y = np.array([-2,-4,-5,-6])\n",
        "#this will return the covariance matrix of x,y containing x_variance, y_variance on diagonal elements and covariance of x,y\n",
        "cov_xy = np.cov(x,y)"
      ],
      "metadata": {
        "id": "VSMSnzdoCnwU"
      },
      "execution_count": null,
      "outputs": []
    },
    {
      "cell_type": "markdown",
      "source": [
        "**Correlation**\n",
        "- Measure the strength and the direction (inversely proportional or directly proportional) of linear relationship between two variables.\n",
        "--1: Inversely proportional\n",
        "-+1: Directly proportional\n",
        "-0: No correlation"
      ],
      "metadata": {
        "id": "VoVmrFpLCrvF"
      }
    },
    {
      "cell_type": "code",
      "source": [
        "x = np.array([1,3,5,6])\n",
        "y = np.array([-2,-4,-5,-6])\n",
        "corr = np.corrcoef(x,y)"
      ],
      "metadata": {
        "id": "j7tiCBxbCtqr"
      },
      "execution_count": null,
      "outputs": []
    }
  ]
}